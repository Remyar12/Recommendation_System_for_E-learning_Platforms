{
  "nbformat": 4,
  "nbformat_minor": 0,
  "metadata": {
    "colab": {
      "provenance": []
    },
    "kernelspec": {
      "name": "python3",
      "display_name": "Python 3"
    },
    "language_info": {
      "name": "python"
    }
  },
  "cells": [
    {
      "cell_type": "code",
      "execution_count": 1,
      "metadata": {
        "colab": {
          "base_uri": "https://localhost:8080/"
        },
        "id": "ejrIV61yBCvx",
        "outputId": "c113c182-5a6b-4f10-db26-f5a03ab9d9ca"
      },
      "outputs": [
        {
          "output_type": "stream",
          "name": "stdout",
          "text": [
            "Requirement already satisfied: pyspark in /usr/local/lib/python3.10/dist-packages (3.5.3)\n",
            "Requirement already satisfied: py4j==0.10.9.7 in /usr/local/lib/python3.10/dist-packages (from pyspark) (0.10.9.7)\n"
          ]
        }
      ],
      "source": [
        "# Install PySpark\n",
        "!pip install pyspark\n",
        "\n",
        "# Import PySpark libraries\n",
        "from pyspark.sql import SparkSession\n",
        "from pyspark.ml.recommendation import ALS\n",
        "from pyspark.sql.functions import col\n"
      ]
    },
    {
      "cell_type": "code",
      "source": [
        "# Initialize Spark Session\n",
        "spark = SparkSession.builder \\\n",
        "    .appName(\"E-Learning Recommendation System\") \\\n",
        "    .getOrCreate()\n"
      ],
      "metadata": {
        "id": "LXROJeRwBj6r"
      },
      "execution_count": 2,
      "outputs": []
    },
    {
      "cell_type": "code",
      "source": [
        "# Download the MovieLens dataset\n",
        "!wget http://files.grouplens.org/datasets/movielens/ml-latest-small.zip\n",
        "\n",
        "# Unzip the dataset\n",
        "!unzip -o ml-latest-small.zip\n"
      ],
      "metadata": {
        "colab": {
          "base_uri": "https://localhost:8080/"
        },
        "id": "0B0r9et-BrIF",
        "outputId": "5111f761-1bb4-49eb-d142-fc1c321d5156"
      },
      "execution_count": 3,
      "outputs": [
        {
          "output_type": "stream",
          "name": "stdout",
          "text": [
            "--2024-12-11 14:02:01--  http://files.grouplens.org/datasets/movielens/ml-latest-small.zip\n",
            "Resolving files.grouplens.org (files.grouplens.org)... 128.101.65.152\n",
            "Connecting to files.grouplens.org (files.grouplens.org)|128.101.65.152|:80... connected.\n",
            "HTTP request sent, awaiting response... 200 OK\n",
            "Length: 978202 (955K) [application/zip]\n",
            "Saving to: ‘ml-latest-small.zip’\n",
            "\n",
            "ml-latest-small.zip 100%[===================>] 955.28K  3.28MB/s    in 0.3s    \n",
            "\n",
            "2024-12-11 14:02:02 (3.28 MB/s) - ‘ml-latest-small.zip’ saved [978202/978202]\n",
            "\n",
            "Archive:  ml-latest-small.zip\n",
            "   creating: ml-latest-small/\n",
            "  inflating: ml-latest-small/links.csv  \n",
            "  inflating: ml-latest-small/tags.csv  \n",
            "  inflating: ml-latest-small/ratings.csv  \n",
            "  inflating: ml-latest-small/README.txt  \n",
            "  inflating: ml-latest-small/movies.csv  \n"
          ]
        }
      ]
    },
    {
      "cell_type": "code",
      "source": [
        "# Load the dataset\n",
        "ratings_file = \"ml-latest-small/ratings.csv\"\n",
        "ratings_df = spark.read.csv(ratings_file, header=True, inferSchema=True)\n",
        "\n",
        "# Select relevant columns and rename them for clarity\n",
        "ratings_df = ratings_df.select(col(\"userId\").alias(\"student_id\"),\n",
        "                                col(\"movieId\").alias(\"course_id\"),\n",
        "                                col(\"rating\"))\n",
        "\n",
        "# Display the first few rows of the dataset\n",
        "ratings_df.show(5)\n"
      ],
      "metadata": {
        "colab": {
          "base_uri": "https://localhost:8080/"
        },
        "id": "83CnR_UjBvDc",
        "outputId": "ddb602ce-99a4-4008-f0d2-6f8ae876e126"
      },
      "execution_count": 4,
      "outputs": [
        {
          "output_type": "stream",
          "name": "stdout",
          "text": [
            "+----------+---------+------+\n",
            "|student_id|course_id|rating|\n",
            "+----------+---------+------+\n",
            "|         1|        1|   4.0|\n",
            "|         1|        3|   4.0|\n",
            "|         1|        6|   4.0|\n",
            "|         1|       47|   5.0|\n",
            "|         1|       50|   5.0|\n",
            "+----------+---------+------+\n",
            "only showing top 5 rows\n",
            "\n"
          ]
        }
      ]
    },
    {
      "cell_type": "code",
      "source": [
        "# Split the dataset\n",
        "(training, test) = ratings_df.randomSplit([0.8, 0.2])\n",
        "\n",
        "# Show the number of rows in each split\n",
        "print(f\"Training set: {training.count()} rows, Test set: {test.count()} rows\")\n"
      ],
      "metadata": {
        "colab": {
          "base_uri": "https://localhost:8080/"
        },
        "id": "pWSOfQYcB1Lj",
        "outputId": "d9f58944-85a8-4784-c316-e5bebc20e6b6"
      },
      "execution_count": 5,
      "outputs": [
        {
          "output_type": "stream",
          "name": "stdout",
          "text": [
            "Training set: 80688 rows, Test set: 20148 rows\n"
          ]
        }
      ]
    },
    {
      "cell_type": "code",
      "source": [
        "# Build the ALS model\n",
        "als = ALS(\n",
        "    maxIter=10,\n",
        "    regParam=0.1,\n",
        "    userCol=\"student_id\",\n",
        "    itemCol=\"course_id\",\n",
        "    ratingCol=\"rating\",\n",
        "    coldStartStrategy=\"drop\"  # To handle cases with no data\n",
        ")\n",
        "\n",
        "# Train the model on the training dataset\n",
        "model = als.fit(training)\n"
      ],
      "metadata": {
        "id": "6bS0shwEB4s6"
      },
      "execution_count": 6,
      "outputs": []
    },
    {
      "cell_type": "code",
      "source": [
        "# Generate predictions on the test set\n",
        "predictions = model.transform(test)\n",
        "\n",
        "# Show the predictions\n",
        "predictions.show(5)\n"
      ],
      "metadata": {
        "colab": {
          "base_uri": "https://localhost:8080/"
        },
        "id": "PHPB8folCAM5",
        "outputId": "119ed7ad-dd41-4fa9-82e3-8c3cdfa01f56"
      },
      "execution_count": 7,
      "outputs": [
        {
          "output_type": "stream",
          "name": "stdout",
          "text": [
            "+----------+---------+------+----------+\n",
            "|student_id|course_id|rating|prediction|\n",
            "+----------+---------+------+----------+\n",
            "|       148|     8368|   4.0| 3.8821478|\n",
            "|       148|    54001|   4.0| 3.6937602|\n",
            "|       148|    89745|   4.0| 3.3706663|\n",
            "|       148|    98491|   5.0| 3.5977542|\n",
            "|       148|   110102|   4.0| 3.5825524|\n",
            "+----------+---------+------+----------+\n",
            "only showing top 5 rows\n",
            "\n"
          ]
        }
      ]
    },
    {
      "cell_type": "code",
      "source": [
        "# Generate top 5 course recommendations for each student\n",
        "student_recommendations = model.recommendForAllUsers(5)\n",
        "\n",
        "# Show recommendations\n",
        "student_recommendations.show(5, truncate=False)\n"
      ],
      "metadata": {
        "colab": {
          "base_uri": "https://localhost:8080/"
        },
        "id": "DcTBMSMUCEzM",
        "outputId": "4dfda510-27d5-4e3e-a707-78668fd8f646"
      },
      "execution_count": 8,
      "outputs": [
        {
          "output_type": "stream",
          "name": "stdout",
          "text": [
            "+----------+------------------------------------------------------------------------------------------------+\n",
            "|student_id|recommendations                                                                                 |\n",
            "+----------+------------------------------------------------------------------------------------------------+\n",
            "|1         |[{132333, 5.8284874}, {8542, 5.8284874}, {5490, 5.8284874}, {5915, 5.759862}, {3494, 5.5152655}]|\n",
            "|2         |[{131724, 4.908405}, {33649, 4.844349}, {59814, 4.687559}, {4846, 4.6244664}, {33090, 4.551824}]|\n",
            "|3         |[{6835, 4.90117}, {5746, 4.90117}, {5919, 4.864108}, {5181, 4.8599205}, {2851, 4.7668996}]      |\n",
            "|4         |[{1254, 5.3492885}, {7700, 5.288615}, {2186, 5.0236835}, {26471, 4.98444}, {25825, 4.9810395}]  |\n",
            "|5         |[{1254, 5.3015494}, {7700, 5.047809}, {25825, 5.0206337}, {26471, 4.9838924}, {2186, 4.929912}] |\n",
            "+----------+------------------------------------------------------------------------------------------------+\n",
            "only showing top 5 rows\n",
            "\n"
          ]
        }
      ]
    },
    {
      "cell_type": "code",
      "source": [
        "# Generate top 5 student recommendations for each course\n",
        "course_recommendations = model.recommendForAllItems(5)\n",
        "\n",
        "# Show recommendations\n",
        "course_recommendations.show(5, truncate=False)\n"
      ],
      "metadata": {
        "colab": {
          "base_uri": "https://localhost:8080/"
        },
        "id": "DLbDWWTlCKg9",
        "outputId": "c1ab8a51-c950-485e-dd24-4600abbc0320"
      },
      "execution_count": 9,
      "outputs": [
        {
          "output_type": "stream",
          "name": "stdout",
          "text": [
            "+---------+--------------------------------------------------------------------------------------+\n",
            "|course_id|recommendations                                                                       |\n",
            "+---------+--------------------------------------------------------------------------------------+\n",
            "|1        |[{53, 4.9882946}, {43, 4.7993546}, {452, 4.6958423}, {35, 4.6744957}, {236, 4.669444}]|\n",
            "|3        |[{43, 4.8460155}, {12, 4.453474}, {543, 4.389518}, {594, 4.3619523}, {562, 4.2554255}]|\n",
            "|5        |[{43, 4.6369643}, {594, 4.3792825}, {12, 4.124978}, {224, 4.071038}, {543, 4.0473347}]|\n",
            "|6        |[{53, 5.5844626}, {171, 4.905902}, {93, 4.8478637}, {452, 4.832537}, {276, 4.8112035}]|\n",
            "|9        |[{492, 4.2895117}, {337, 4.242257}, {53, 4.1915984}, {43, 4.118189}, {243, 4.117582}] |\n",
            "+---------+--------------------------------------------------------------------------------------+\n",
            "only showing top 5 rows\n",
            "\n"
          ]
        }
      ]
    }
  ]
}